{
 "cells": [
  {
   "cell_type": "markdown",
   "id": "894e5fd8",
   "metadata": {},
   "source": [
    "# Toronto House Price Analysis Based on Amenities"
   ]
  },
  {
   "cell_type": "code",
   "execution_count": 1,
   "id": "228f0804",
   "metadata": {},
   "outputs": [],
   "source": [
    "# import packages/libraries\n",
    "import pandas as pd\n",
    "import matplotlib.pylab as plt\n",
    "import seaborn as sns"
   ]
  },
  {
   "cell_type": "code",
   "execution_count": 152,
   "id": "79c68226",
   "metadata": {
    "scrolled": false
   },
   "outputs": [
    {
     "data": {
      "text/html": [
       "<div>\n",
       "<style scoped>\n",
       "    .dataframe tbody tr th:only-of-type {\n",
       "        vertical-align: middle;\n",
       "    }\n",
       "\n",
       "    .dataframe tbody tr th {\n",
       "        vertical-align: top;\n",
       "    }\n",
       "\n",
       "    .dataframe thead th {\n",
       "        text-align: right;\n",
       "    }\n",
       "</style>\n",
       "<table border=\"1\" class=\"dataframe\">\n",
       "  <thead>\n",
       "    <tr style=\"text-align: right;\">\n",
       "      <th></th>\n",
       "      <th>Bedroom</th>\n",
       "      <th>Bathroom</th>\n",
       "      <th>Den</th>\n",
       "      <th>Address</th>\n",
       "      <th>Lat</th>\n",
       "      <th>Long</th>\n",
       "      <th>Price</th>\n",
       "    </tr>\n",
       "  </thead>\n",
       "  <tbody>\n",
       "    <tr>\n",
       "      <th>0</th>\n",
       "      <td>2</td>\n",
       "      <td>2.0</td>\n",
       "      <td>0</td>\n",
       "      <td>3985 Grand Park Drive, 3985 Grand Park Dr, Mis...</td>\n",
       "      <td>43.581639</td>\n",
       "      <td>-79.648193</td>\n",
       "      <td>$2,450.00</td>\n",
       "    </tr>\n",
       "    <tr>\n",
       "      <th>1</th>\n",
       "      <td>1</td>\n",
       "      <td>1.0</td>\n",
       "      <td>1</td>\n",
       "      <td>361 Front St W, Toronto, ON M5V 3R5, Canada</td>\n",
       "      <td>43.643051</td>\n",
       "      <td>-79.391643</td>\n",
       "      <td>$2,150.00</td>\n",
       "    </tr>\n",
       "    <tr>\n",
       "      <th>2</th>\n",
       "      <td>1</td>\n",
       "      <td>1.0</td>\n",
       "      <td>0</td>\n",
       "      <td>89 McGill Street, Toronto, ON, M5B 0B1</td>\n",
       "      <td>43.660605</td>\n",
       "      <td>-79.378635</td>\n",
       "      <td>$1,950.00</td>\n",
       "    </tr>\n",
       "    <tr>\n",
       "      <th>3</th>\n",
       "      <td>2</td>\n",
       "      <td>2.0</td>\n",
       "      <td>0</td>\n",
       "      <td>10 York Street, Toronto, ON, M5J 0E1</td>\n",
       "      <td>43.641087</td>\n",
       "      <td>-79.381405</td>\n",
       "      <td>$2,900.00</td>\n",
       "    </tr>\n",
       "    <tr>\n",
       "      <th>4</th>\n",
       "      <td>1</td>\n",
       "      <td>1.0</td>\n",
       "      <td>0</td>\n",
       "      <td>80 St Patrick St, Toronto, ON M5T 2X6, Canada</td>\n",
       "      <td>43.652487</td>\n",
       "      <td>-79.389622</td>\n",
       "      <td>$1,800.00</td>\n",
       "    </tr>\n",
       "    <tr>\n",
       "      <th>5</th>\n",
       "      <td>1</td>\n",
       "      <td>1.0</td>\n",
       "      <td>0</td>\n",
       "      <td>87 Jameson Avenue, Toronto, ON, M6K 2W8</td>\n",
       "      <td>43.634890</td>\n",
       "      <td>-79.434654</td>\n",
       "      <td>$1,729.00</td>\n",
       "    </tr>\n",
       "    <tr>\n",
       "      <th>6</th>\n",
       "      <td>2</td>\n",
       "      <td>1.0</td>\n",
       "      <td>0</td>\n",
       "      <td>700  Ross Street, Burlington, ON, L7S 1S2</td>\n",
       "      <td>43.328986</td>\n",
       "      <td>-79.808618</td>\n",
       "      <td>$1,685.00</td>\n",
       "    </tr>\n",
       "    <tr>\n",
       "      <th>7</th>\n",
       "      <td>1</td>\n",
       "      <td>1.0</td>\n",
       "      <td>0</td>\n",
       "      <td>25 Telegram Mews, Toronto, ON, M5V 3Z2</td>\n",
       "      <td>43.640918</td>\n",
       "      <td>-79.393982</td>\n",
       "      <td>$1,900.00</td>\n",
       "    </tr>\n",
       "    <tr>\n",
       "      <th>8</th>\n",
       "      <td>1</td>\n",
       "      <td>1.0</td>\n",
       "      <td>0</td>\n",
       "      <td>560 Front St W, toronto, ON, M5V 0L5</td>\n",
       "      <td>43.641308</td>\n",
       "      <td>-79.400093</td>\n",
       "      <td>$1,900.00</td>\n",
       "    </tr>\n",
       "    <tr>\n",
       "      <th>9</th>\n",
       "      <td>1</td>\n",
       "      <td>1.0</td>\n",
       "      <td>1</td>\n",
       "      <td>70 Queens Wharf Rd 33rd Floor, Toronto, ON M5V...</td>\n",
       "      <td>43.640068</td>\n",
       "      <td>-79.399960</td>\n",
       "      <td>$2,400.00</td>\n",
       "    </tr>\n",
       "    <tr>\n",
       "      <th>10</th>\n",
       "      <td>1</td>\n",
       "      <td>1.0</td>\n",
       "      <td>0</td>\n",
       "      <td>545 - 555  Sherbourne Street, Toronto, ON, M4X...</td>\n",
       "      <td>43.668468</td>\n",
       "      <td>-79.374834</td>\n",
       "      <td>$1,750.00</td>\n",
       "    </tr>\n",
       "    <tr>\n",
       "      <th>11</th>\n",
       "      <td>2</td>\n",
       "      <td>1.0</td>\n",
       "      <td>0</td>\n",
       "      <td>545 - 555  Sherbourne Street, Toronto, ON, M4X...</td>\n",
       "      <td>43.668468</td>\n",
       "      <td>-79.374834</td>\n",
       "      <td>$2,000.00</td>\n",
       "    </tr>\n",
       "  </tbody>\n",
       "</table>\n",
       "</div>"
      ],
      "text/plain": [
       "    Bedroom  Bathroom  Den                                            Address  \\\n",
       "0         2       2.0    0  3985 Grand Park Drive, 3985 Grand Park Dr, Mis...   \n",
       "1         1       1.0    1        361 Front St W, Toronto, ON M5V 3R5, Canada   \n",
       "2         1       1.0    0             89 McGill Street, Toronto, ON, M5B 0B1   \n",
       "3         2       2.0    0               10 York Street, Toronto, ON, M5J 0E1   \n",
       "4         1       1.0    0      80 St Patrick St, Toronto, ON M5T 2X6, Canada   \n",
       "5         1       1.0    0            87 Jameson Avenue, Toronto, ON, M6K 2W8   \n",
       "6         2       1.0    0          700  Ross Street, Burlington, ON, L7S 1S2   \n",
       "7         1       1.0    0             25 Telegram Mews, Toronto, ON, M5V 3Z2   \n",
       "8         1       1.0    0               560 Front St W, toronto, ON, M5V 0L5   \n",
       "9         1       1.0    1  70 Queens Wharf Rd 33rd Floor, Toronto, ON M5V...   \n",
       "10        1       1.0    0  545 - 555  Sherbourne Street, Toronto, ON, M4X...   \n",
       "11        2       1.0    0  545 - 555  Sherbourne Street, Toronto, ON, M4X...   \n",
       "\n",
       "          Lat       Long      Price  \n",
       "0   43.581639 -79.648193  $2,450.00  \n",
       "1   43.643051 -79.391643  $2,150.00  \n",
       "2   43.660605 -79.378635  $1,950.00  \n",
       "3   43.641087 -79.381405  $2,900.00  \n",
       "4   43.652487 -79.389622  $1,800.00  \n",
       "5   43.634890 -79.434654  $1,729.00  \n",
       "6   43.328986 -79.808618  $1,685.00  \n",
       "7   43.640918 -79.393982  $1,900.00  \n",
       "8   43.641308 -79.400093  $1,900.00  \n",
       "9   43.640068 -79.399960  $2,400.00  \n",
       "10  43.668468 -79.374834  $1,750.00  \n",
       "11  43.668468 -79.374834  $2,000.00  "
      ]
     },
     "execution_count": 152,
     "metadata": {},
     "output_type": "execute_result"
    }
   ],
   "source": [
    "# https://www.kaggle.com/datasets/rajacsp/toronto-apartment-price?resource=download\n",
    "# load data\n",
    "TorontoHousing_df = pd.read_csv(\"DataFiles\\Toronto_apartment_rentals_2018.csv\")\n",
    "TorontoHousing_df.head(12)"
   ]
  },
  {
   "cell_type": "code",
   "execution_count": 153,
   "id": "7029ef8b",
   "metadata": {},
   "outputs": [
    {
     "data": {
      "text/plain": [
       "(1124, 7)"
      ]
     },
     "execution_count": 153,
     "metadata": {},
     "output_type": "execute_result"
    }
   ],
   "source": [
    "# Inspect data dimensions\n",
    "TorontoHousing_df.shape"
   ]
  },
  {
   "cell_type": "markdown",
   "id": "3c3bd0c0",
   "metadata": {},
   "source": [
    "## Data Cleaning"
   ]
  },
  {
   "cell_type": "markdown",
   "id": "e49bf47b",
   "metadata": {},
   "source": [
    "### Duplicates"
   ]
  },
  {
   "cell_type": "code",
   "execution_count": 154,
   "id": "42a2802c",
   "metadata": {},
   "outputs": [
    {
     "name": "stdout",
     "output_type": "stream",
     "text": [
      "308\n"
     ]
    }
   ],
   "source": [
    "# Check for duplicated rows.\n",
    "duplicate_count = TorontoHousing_df.duplicated().sum()\n",
    "print(duplicate_count)"
   ]
  },
  {
   "cell_type": "code",
   "execution_count": 155,
   "id": "0d11471a",
   "metadata": {},
   "outputs": [
    {
     "data": {
      "text/html": [
       "<div>\n",
       "<style scoped>\n",
       "    .dataframe tbody tr th:only-of-type {\n",
       "        vertical-align: middle;\n",
       "    }\n",
       "\n",
       "    .dataframe tbody tr th {\n",
       "        vertical-align: top;\n",
       "    }\n",
       "\n",
       "    .dataframe thead th {\n",
       "        text-align: right;\n",
       "    }\n",
       "</style>\n",
       "<table border=\"1\" class=\"dataframe\">\n",
       "  <thead>\n",
       "    <tr style=\"text-align: right;\">\n",
       "      <th></th>\n",
       "      <th>Bedroom</th>\n",
       "      <th>Bathroom</th>\n",
       "      <th>Den</th>\n",
       "      <th>Address</th>\n",
       "      <th>Lat</th>\n",
       "      <th>Long</th>\n",
       "      <th>Price</th>\n",
       "    </tr>\n",
       "  </thead>\n",
       "  <tbody>\n",
       "    <tr>\n",
       "      <th>254</th>\n",
       "      <td>1</td>\n",
       "      <td>1.0</td>\n",
       "      <td>0</td>\n",
       "      <td># Dundas st w, Denison ave and Dundas st w M5T...</td>\n",
       "      <td>43.652043</td>\n",
       "      <td>-79.402242</td>\n",
       "      <td>$1,300.00</td>\n",
       "    </tr>\n",
       "    <tr>\n",
       "      <th>386</th>\n",
       "      <td>1</td>\n",
       "      <td>1.0</td>\n",
       "      <td>0</td>\n",
       "      <td># Dundas st w, Denison ave and Dundas st w M5T...</td>\n",
       "      <td>43.652043</td>\n",
       "      <td>-79.402242</td>\n",
       "      <td>$1,300.00</td>\n",
       "    </tr>\n",
       "    <tr>\n",
       "      <th>232</th>\n",
       "      <td>1</td>\n",
       "      <td>1.0</td>\n",
       "      <td>0</td>\n",
       "      <td>, DOWNTOWN M5V 4A9 ON, Canada</td>\n",
       "      <td>43.640402</td>\n",
       "      <td>-79.397147</td>\n",
       "      <td>$2,100.00</td>\n",
       "    </tr>\n",
       "    <tr>\n",
       "      <th>365</th>\n",
       "      <td>1</td>\n",
       "      <td>1.0</td>\n",
       "      <td>0</td>\n",
       "      <td>, DOWNTOWN M5V 4A9 ON, Canada</td>\n",
       "      <td>43.640402</td>\n",
       "      <td>-79.397147</td>\n",
       "      <td>$2,100.00</td>\n",
       "    </tr>\n",
       "    <tr>\n",
       "      <th>460</th>\n",
       "      <td>1</td>\n",
       "      <td>1.0</td>\n",
       "      <td>0</td>\n",
       "      <td>, DOWNTOWN M5V 4A9 ON, Canada</td>\n",
       "      <td>43.640402</td>\n",
       "      <td>-79.397147</td>\n",
       "      <td>$2,100.00</td>\n",
       "    </tr>\n",
       "    <tr>\n",
       "      <th>...</th>\n",
       "      <td>...</td>\n",
       "      <td>...</td>\n",
       "      <td>...</td>\n",
       "      <td>...</td>\n",
       "      <td>...</td>\n",
       "      <td>...</td>\n",
       "      <td>...</td>\n",
       "    </tr>\n",
       "    <tr>\n",
       "      <th>418</th>\n",
       "      <td>3</td>\n",
       "      <td>1.5</td>\n",
       "      <td>0</td>\n",
       "      <td>19 Sudbury St, Toronto, ON M6J 3W6, Canada</td>\n",
       "      <td>43.641109</td>\n",
       "      <td>-79.419448</td>\n",
       "      <td>$3,450.00</td>\n",
       "    </tr>\n",
       "    <tr>\n",
       "      <th>214</th>\n",
       "      <td>3</td>\n",
       "      <td>1.5</td>\n",
       "      <td>0</td>\n",
       "      <td>2304  Weston Road, Toronto, ON, M9N 1Z3</td>\n",
       "      <td>43.705123</td>\n",
       "      <td>-79.530091</td>\n",
       "      <td>$2,050.00</td>\n",
       "    </tr>\n",
       "    <tr>\n",
       "      <th>345</th>\n",
       "      <td>3</td>\n",
       "      <td>1.5</td>\n",
       "      <td>0</td>\n",
       "      <td>2304  Weston Road, Toronto, ON, M9N 1Z3</td>\n",
       "      <td>43.705123</td>\n",
       "      <td>-79.530091</td>\n",
       "      <td>$2,050.00</td>\n",
       "    </tr>\n",
       "    <tr>\n",
       "      <th>402</th>\n",
       "      <td>3</td>\n",
       "      <td>2.0</td>\n",
       "      <td>0</td>\n",
       "      <td>, M5V 2G4, Toronto, ON</td>\n",
       "      <td>43.646764</td>\n",
       "      <td>-79.392221</td>\n",
       "      <td>$3,200.00</td>\n",
       "    </tr>\n",
       "    <tr>\n",
       "      <th>401</th>\n",
       "      <td>3</td>\n",
       "      <td>2.0</td>\n",
       "      <td>0</td>\n",
       "      <td>M5B0A5, Canada</td>\n",
       "      <td>56.130366</td>\n",
       "      <td>-106.346771</td>\n",
       "      <td>$4,000.00</td>\n",
       "    </tr>\n",
       "  </tbody>\n",
       "</table>\n",
       "<p>308 rows × 7 columns</p>\n",
       "</div>"
      ],
      "text/plain": [
       "     Bedroom  Bathroom  Den  \\\n",
       "254        1       1.0    0   \n",
       "386        1       1.0    0   \n",
       "232        1       1.0    0   \n",
       "365        1       1.0    0   \n",
       "460        1       1.0    0   \n",
       "..       ...       ...  ...   \n",
       "418        3       1.5    0   \n",
       "214        3       1.5    0   \n",
       "345        3       1.5    0   \n",
       "402        3       2.0    0   \n",
       "401        3       2.0    0   \n",
       "\n",
       "                                               Address        Lat        Long  \\\n",
       "254  # Dundas st w, Denison ave and Dundas st w M5T...  43.652043  -79.402242   \n",
       "386  # Dundas st w, Denison ave and Dundas st w M5T...  43.652043  -79.402242   \n",
       "232                      , DOWNTOWN M5V 4A9 ON, Canada  43.640402  -79.397147   \n",
       "365                      , DOWNTOWN M5V 4A9 ON, Canada  43.640402  -79.397147   \n",
       "460                      , DOWNTOWN M5V 4A9 ON, Canada  43.640402  -79.397147   \n",
       "..                                                 ...        ...         ...   \n",
       "418         19 Sudbury St, Toronto, ON M6J 3W6, Canada  43.641109  -79.419448   \n",
       "214            2304  Weston Road, Toronto, ON, M9N 1Z3  43.705123  -79.530091   \n",
       "345            2304  Weston Road, Toronto, ON, M9N 1Z3  43.705123  -79.530091   \n",
       "402                             , M5V 2G4, Toronto, ON  43.646764  -79.392221   \n",
       "401                                     M5B0A5, Canada  56.130366 -106.346771   \n",
       "\n",
       "         Price  \n",
       "254  $1,300.00  \n",
       "386  $1,300.00  \n",
       "232  $2,100.00  \n",
       "365  $2,100.00  \n",
       "460  $2,100.00  \n",
       "..         ...  \n",
       "418  $3,450.00  \n",
       "214  $2,050.00  \n",
       "345  $2,050.00  \n",
       "402  $3,200.00  \n",
       "401  $4,000.00  \n",
       "\n",
       "[308 rows x 7 columns]"
      ]
     },
     "execution_count": 155,
     "metadata": {},
     "output_type": "execute_result"
    }
   ],
   "source": [
    "# Inspect / View duplicates\n",
    "TorontoHousing_df[TorontoHousing_df.duplicated()].sort_values(by=['Bedroom', 'Bathroom', 'Den', 'Address', 'Price'])"
   ]
  },
  {
   "cell_type": "code",
   "execution_count": 156,
   "id": "86791e6c",
   "metadata": {
    "scrolled": true
   },
   "outputs": [],
   "source": [
    "# drop duplicate rows\n",
    "df_cleaned = TorontoHousing_df.drop_duplicates().copy()"
   ]
  },
  {
   "cell_type": "code",
   "execution_count": 157,
   "id": "d473b695",
   "metadata": {},
   "outputs": [
    {
     "name": "stdout",
     "output_type": "stream",
     "text": [
      "0\n"
     ]
    }
   ],
   "source": [
    "# Confirm duplicate rows were dropped\n",
    "duplicate_count = df_cleaned.duplicated().sum()\n",
    "print(duplicate_count)"
   ]
  },
  {
   "cell_type": "markdown",
   "id": "f0e30f63",
   "metadata": {},
   "source": [
    "### Missing Values"
   ]
  },
  {
   "cell_type": "code",
   "execution_count": 158,
   "id": "1ee55109",
   "metadata": {},
   "outputs": [
    {
     "name": "stdout",
     "output_type": "stream",
     "text": [
      "Bedroom     0\n",
      "Bathroom    0\n",
      "Den         0\n",
      "Address     0\n",
      "Lat         0\n",
      "Long        0\n",
      "Price       0\n",
      "dtype: int64\n"
     ]
    }
   ],
   "source": [
    "# Check for missing values.\n",
    "missing_values = df_cleaned.isnull().sum()\n",
    "print(missing_values)"
   ]
  },
  {
   "cell_type": "markdown",
   "id": "971c5e3c",
   "metadata": {},
   "source": [
    "### Data Types"
   ]
  },
  {
   "cell_type": "code",
   "execution_count": 159,
   "id": "cb21d636",
   "metadata": {
    "scrolled": false
   },
   "outputs": [
    {
     "name": "stdout",
     "output_type": "stream",
     "text": [
      "<class 'pandas.core.frame.DataFrame'>\n",
      "Int64Index: 816 entries, 0 to 1123\n",
      "Data columns (total 7 columns):\n",
      " #   Column    Non-Null Count  Dtype  \n",
      "---  ------    --------------  -----  \n",
      " 0   Bedroom   816 non-null    int64  \n",
      " 1   Bathroom  816 non-null    float64\n",
      " 2   Den       816 non-null    int64  \n",
      " 3   Address   816 non-null    object \n",
      " 4   Lat       816 non-null    float64\n",
      " 5   Long      816 non-null    float64\n",
      " 6   Price     816 non-null    object \n",
      "dtypes: float64(3), int64(2), object(2)\n",
      "memory usage: 51.0+ KB\n"
     ]
    }
   ],
   "source": [
    "# Check columns data types\n",
    "df_cleaned.info()"
   ]
  },
  {
   "cell_type": "code",
   "execution_count": 160,
   "id": "7fd61c8a",
   "metadata": {},
   "outputs": [
    {
     "data": {
      "text/plain": [
       "0     $2,450.00\n",
       "1     $2,150.00\n",
       "2     $1,950.00\n",
       "3     $2,900.00\n",
       "4     $1,800.00\n",
       "5     $1,729.00\n",
       "6     $1,685.00\n",
       "7     $1,900.00\n",
       "8     $1,900.00\n",
       "9     $2,400.00\n",
       "10    $1,750.00\n",
       "11    $2,000.00\n",
       "Name: Price, dtype: object"
      ]
     },
     "execution_count": 160,
     "metadata": {},
     "output_type": "execute_result"
    }
   ],
   "source": [
    "df_cleaned.Price.head(12)"
   ]
  },
  {
   "cell_type": "markdown",
   "id": "73666347",
   "metadata": {},
   "source": [
    "Remove the characters '$' and ',' from the ``Price`` variable.  \n",
    "Then convert the variable into a ``float`` data type"
   ]
  },
  {
   "cell_type": "code",
   "execution_count": 161,
   "id": "253e5896",
   "metadata": {},
   "outputs": [],
   "source": [
    "# Remove non-numeric values, and convert to float\n",
    "df_cleaned.Price = df_cleaned.Price.str.replace('$','', regex=True)\n",
    "df_cleaned.Price = df_cleaned.Price.str.replace(',','', regex=True)\n",
    "df_cleaned.Price = df_cleaned.Price.astype(float)"
   ]
  },
  {
   "cell_type": "code",
   "execution_count": 162,
   "id": "fdc5f8c2",
   "metadata": {},
   "outputs": [
    {
     "name": "stdout",
     "output_type": "stream",
     "text": [
      "<class 'pandas.core.frame.DataFrame'>\n",
      "Int64Index: 816 entries, 0 to 1123\n",
      "Data columns (total 7 columns):\n",
      " #   Column    Non-Null Count  Dtype  \n",
      "---  ------    --------------  -----  \n",
      " 0   Bedroom   816 non-null    int64  \n",
      " 1   Bathroom  816 non-null    float64\n",
      " 2   Den       816 non-null    int64  \n",
      " 3   Address   816 non-null    object \n",
      " 4   Lat       816 non-null    float64\n",
      " 5   Long      816 non-null    float64\n",
      " 6   Price     816 non-null    float64\n",
      "dtypes: float64(4), int64(2), object(1)\n",
      "memory usage: 51.0+ KB\n"
     ]
    }
   ],
   "source": [
    "# Confirm data type changes\n",
    "df_cleaned.info()"
   ]
  },
  {
   "cell_type": "code",
   "execution_count": 163,
   "id": "f8da12b3",
   "metadata": {
    "scrolled": false
   },
   "outputs": [
    {
     "data": {
      "text/html": [
       "<div>\n",
       "<style scoped>\n",
       "    .dataframe tbody tr th:only-of-type {\n",
       "        vertical-align: middle;\n",
       "    }\n",
       "\n",
       "    .dataframe tbody tr th {\n",
       "        vertical-align: top;\n",
       "    }\n",
       "\n",
       "    .dataframe thead th {\n",
       "        text-align: right;\n",
       "    }\n",
       "</style>\n",
       "<table border=\"1\" class=\"dataframe\">\n",
       "  <thead>\n",
       "    <tr style=\"text-align: right;\">\n",
       "      <th></th>\n",
       "      <th>Bedroom</th>\n",
       "      <th>Bathroom</th>\n",
       "      <th>Den</th>\n",
       "      <th>Lat</th>\n",
       "      <th>Long</th>\n",
       "      <th>Price</th>\n",
       "    </tr>\n",
       "  </thead>\n",
       "  <tbody>\n",
       "    <tr>\n",
       "      <th>count</th>\n",
       "      <td>816.000000</td>\n",
       "      <td>816.000000</td>\n",
       "      <td>816.000000</td>\n",
       "      <td>816.000000</td>\n",
       "      <td>816.000000</td>\n",
       "      <td>816.000000</td>\n",
       "    </tr>\n",
       "    <tr>\n",
       "      <th>mean</th>\n",
       "      <td>1.367647</td>\n",
       "      <td>1.239583</td>\n",
       "      <td>0.154412</td>\n",
       "      <td>43.707321</td>\n",
       "      <td>-79.497995</td>\n",
       "      <td>2873.492647</td>\n",
       "    </tr>\n",
       "    <tr>\n",
       "      <th>std</th>\n",
       "      <td>0.566667</td>\n",
       "      <td>0.438082</td>\n",
       "      <td>0.361565</td>\n",
       "      <td>0.683253</td>\n",
       "      <td>1.836522</td>\n",
       "      <td>18707.483551</td>\n",
       "    </tr>\n",
       "    <tr>\n",
       "      <th>min</th>\n",
       "      <td>1.000000</td>\n",
       "      <td>1.000000</td>\n",
       "      <td>0.000000</td>\n",
       "      <td>42.985767</td>\n",
       "      <td>-114.082215</td>\n",
       "      <td>65.000000</td>\n",
       "    </tr>\n",
       "    <tr>\n",
       "      <th>25%</th>\n",
       "      <td>1.000000</td>\n",
       "      <td>1.000000</td>\n",
       "      <td>0.000000</td>\n",
       "      <td>43.641617</td>\n",
       "      <td>-79.412034</td>\n",
       "      <td>1750.000000</td>\n",
       "    </tr>\n",
       "    <tr>\n",
       "      <th>50%</th>\n",
       "      <td>1.000000</td>\n",
       "      <td>1.000000</td>\n",
       "      <td>0.000000</td>\n",
       "      <td>43.652023</td>\n",
       "      <td>-79.387374</td>\n",
       "      <td>2100.000000</td>\n",
       "    </tr>\n",
       "    <tr>\n",
       "      <th>75%</th>\n",
       "      <td>2.000000</td>\n",
       "      <td>1.000000</td>\n",
       "      <td>0.000000</td>\n",
       "      <td>43.667670</td>\n",
       "      <td>-79.376923</td>\n",
       "      <td>2500.000000</td>\n",
       "    </tr>\n",
       "    <tr>\n",
       "      <th>max</th>\n",
       "      <td>3.000000</td>\n",
       "      <td>3.000000</td>\n",
       "      <td>1.000000</td>\n",
       "      <td>56.130366</td>\n",
       "      <td>-73.576385</td>\n",
       "      <td>535000.000000</td>\n",
       "    </tr>\n",
       "  </tbody>\n",
       "</table>\n",
       "</div>"
      ],
      "text/plain": [
       "          Bedroom    Bathroom         Den         Lat        Long  \\\n",
       "count  816.000000  816.000000  816.000000  816.000000  816.000000   \n",
       "mean     1.367647    1.239583    0.154412   43.707321  -79.497995   \n",
       "std      0.566667    0.438082    0.361565    0.683253    1.836522   \n",
       "min      1.000000    1.000000    0.000000   42.985767 -114.082215   \n",
       "25%      1.000000    1.000000    0.000000   43.641617  -79.412034   \n",
       "50%      1.000000    1.000000    0.000000   43.652023  -79.387374   \n",
       "75%      2.000000    1.000000    0.000000   43.667670  -79.376923   \n",
       "max      3.000000    3.000000    1.000000   56.130366  -73.576385   \n",
       "\n",
       "               Price  \n",
       "count     816.000000  \n",
       "mean     2873.492647  \n",
       "std     18707.483551  \n",
       "min        65.000000  \n",
       "25%      1750.000000  \n",
       "50%      2100.000000  \n",
       "75%      2500.000000  \n",
       "max    535000.000000  "
      ]
     },
     "execution_count": 163,
     "metadata": {},
     "output_type": "execute_result"
    }
   ],
   "source": [
    "# Summary statistics\n",
    "df_cleaned.describe()"
   ]
  },
  {
   "cell_type": "code",
   "execution_count": 164,
   "id": "d844dd51",
   "metadata": {
    "scrolled": true
   },
   "outputs": [
    {
     "data": {
      "text/plain": [
       "<AxesSubplot:ylabel='Frequency'>"
      ]
     },
     "execution_count": 164,
     "metadata": {},
     "output_type": "execute_result"
    },
    {
     "data": {
      "image/png": "[encoded data removed]",
      "text/plain": [
       "<Figure size 640x480 with 1 Axes>"
      ]
     },
     "metadata": {},
     "output_type": "display_data"
    }
   ],
   "source": [
    "# Histogram - Price\n",
    "df_cleaned['Price'].plot.hist()"
   ]
  },
  {
   "cell_type": "code",
   "execution_count": 165,
   "id": "7a1e7650",
   "metadata": {
    "scrolled": true
   },
   "outputs": [
    {
     "data": {
      "text/plain": [
       "Text(0, 0.5, 'Price')"
      ]
     },
     "execution_count": 165,
     "metadata": {},
     "output_type": "execute_result"
    },
    {
     "data": {
      "image/png": "[encoded data removed]",
      "text/plain": [
       "<Figure size 640x480 with 1 Axes>"
      ]
     },
     "metadata": {},
     "output_type": "display_data"
    }
   ],
   "source": [
    "# Historgram Price-BedRoom\n",
    "Housing_Hist = df_cleaned.Bedroom.hist()\n",
    "Housing_Hist.set_xlabel('Bedroom');\n",
    "Housing_Hist.set_ylabel('Price')"
   ]
  },
  {
   "cell_type": "code",
   "execution_count": 166,
   "id": "1cf29024",
   "metadata": {
    "scrolled": true
   },
   "outputs": [
    {
     "data": {
      "text/plain": [
       "Text(0, 0.5, 'Price')"
      ]
     },
     "execution_count": 166,
     "metadata": {},
     "output_type": "execute_result"
    },
    {
     "data": {
      "image/png": "[encoded data removed]",
      "text/plain": [
       "<Figure size 640x480 with 1 Axes>"
      ]
     },
     "metadata": {},
     "output_type": "display_data"
    }
   ],
   "source": [
    "# Historgram Price-BathRoom\n",
    "\n",
    "Housing_Hist = TorontoHousing_df.Bathroom.hist()\n",
    "Housing_Hist.set_xlabel('Bathroom');\n",
    "Housing_Hist.set_ylabel('Price')"
   ]
  },
  {
   "cell_type": "markdown",
   "id": "cbf42f9f",
   "metadata": {},
   "source": [
    "## Detect Outliers"
   ]
  },
  {
   "cell_type": "code",
   "execution_count": 167,
   "id": "1c0c5b3b",
   "metadata": {
    "scrolled": true
   },
   "outputs": [
    {
     "data": {
      "text/plain": [
       "<AxesSubplot:xlabel='Bedroom', ylabel='Price'>"
      ]
     },
     "execution_count": 167,
     "metadata": {},
     "output_type": "execute_result"
    },
    {
     "data": {
      "image/png": "[encoded data removed]",
      "text/plain": [
       "<Figure size 640x480 with 1 Axes>"
      ]
     },
     "metadata": {},
     "output_type": "display_data"
    }
   ],
   "source": [
    "sns.boxplot(y=df_cleaned.Price, x=df_cleaned.Bedroom, showmeans=True)"
   ]
  },
  {
   "cell_type": "markdown",
   "id": "d1625287",
   "metadata": {},
   "source": [
    "The boxplot is showing a similar behaviour, as with the histogram. We can see a value point that is extremely distant from the the rest of the data points. Again this can be due to outlier values"
   ]
  },
  {
   "cell_type": "markdown",
   "id": "61d3eda1",
   "metadata": {},
   "source": [
    "#### Calculate lower and upper interquartile range\n",
    "We will use these values to evaluate and remove outliers."
   ]
  },
  {
   "cell_type": "code",
   "execution_count": 168,
   "id": "5db1c6bc",
   "metadata": {},
   "outputs": [
    {
     "name": "stdout",
     "output_type": "stream",
     "text": [
      "lower: 625.0, upper: 3625.0\n"
     ]
    }
   ],
   "source": [
    "# Set q1 and q3\n",
    "q1 = df_cleaned.Price.quantile(0.25)\n",
    "q3 = df_cleaned.Price.quantile(0.75)\n",
    "\n",
    "# Calculate IQR\n",
    "iqr = q3 - q1\n",
    "\n",
    "# Calculate lower and upper bounds\n",
    "lower_bound = q1 - (1.5 * iqr)\n",
    "upper_bound = q3 + (1.5 * iqr)\n",
    "\n",
    "print(\"lower: {}, upper: {}\".format(lower_bound, upper_bound))"
   ]
  },
  {
   "cell_type": "code",
   "execution_count": 169,
   "id": "68064d3e",
   "metadata": {
    "scrolled": true
   },
   "outputs": [
    {
     "data": {
      "text/html": [
       "<div>\n",
       "<style scoped>\n",
       "    .dataframe tbody tr th:only-of-type {\n",
       "        vertical-align: middle;\n",
       "    }\n",
       "\n",
       "    .dataframe tbody tr th {\n",
       "        vertical-align: top;\n",
       "    }\n",
       "\n",
       "    .dataframe thead th {\n",
       "        text-align: right;\n",
       "    }\n",
       "</style>\n",
       "<table border=\"1\" class=\"dataframe\">\n",
       "  <thead>\n",
       "    <tr style=\"text-align: right;\">\n",
       "      <th></th>\n",
       "      <th>Bedroom</th>\n",
       "      <th>Bathroom</th>\n",
       "      <th>Den</th>\n",
       "      <th>Address</th>\n",
       "      <th>Lat</th>\n",
       "      <th>Long</th>\n",
       "      <th>Price</th>\n",
       "    </tr>\n",
       "  </thead>\n",
       "  <tbody>\n",
       "    <tr>\n",
       "      <th>816</th>\n",
       "      <td>1</td>\n",
       "      <td>2.0</td>\n",
       "      <td>0</td>\n",
       "      <td>Euclid Ave, Toronto, ON, Canada</td>\n",
       "      <td>43.658689</td>\n",
       "      <td>-79.412577</td>\n",
       "      <td>65.0</td>\n",
       "    </tr>\n",
       "    <tr>\n",
       "      <th>973</th>\n",
       "      <td>1</td>\n",
       "      <td>2.0</td>\n",
       "      <td>1</td>\n",
       "      <td>2121 Lake Shore Blvd W, Etobicoke, ON M8V 4E9,...</td>\n",
       "      <td>43.627447</td>\n",
       "      <td>-79.478374</td>\n",
       "      <td>99.0</td>\n",
       "    </tr>\n",
       "    <tr>\n",
       "      <th>794</th>\n",
       "      <td>1</td>\n",
       "      <td>1.0</td>\n",
       "      <td>0</td>\n",
       "      <td>8 Wellesley St E, Toronto, ON M4Y 3B2, Canada</td>\n",
       "      <td>43.665233</td>\n",
       "      <td>-79.384293</td>\n",
       "      <td>99.0</td>\n",
       "    </tr>\n",
       "    <tr>\n",
       "      <th>761</th>\n",
       "      <td>1</td>\n",
       "      <td>1.0</td>\n",
       "      <td>0</td>\n",
       "      <td>, Toronro M4V 1N5 ON, Canada</td>\n",
       "      <td>43.686511</td>\n",
       "      <td>-79.399522</td>\n",
       "      <td>150.0</td>\n",
       "    </tr>\n",
       "    <tr>\n",
       "      <th>1110</th>\n",
       "      <td>1</td>\n",
       "      <td>1.0</td>\n",
       "      <td>0</td>\n",
       "      <td>195 Wynford Dr, North York, ON M3C 3P3, Canada</td>\n",
       "      <td>43.723587</td>\n",
       "      <td>-79.324879</td>\n",
       "      <td>300.0</td>\n",
       "    </tr>\n",
       "    <tr>\n",
       "      <th>83</th>\n",
       "      <td>1</td>\n",
       "      <td>1.0</td>\n",
       "      <td>0</td>\n",
       "      <td>89 Chestnut St, Toronto, ON M5G 1R1, Canada</td>\n",
       "      <td>43.654155</td>\n",
       "      <td>-79.385211</td>\n",
       "      <td>550.0</td>\n",
       "    </tr>\n",
       "    <tr>\n",
       "      <th>1049</th>\n",
       "      <td>2</td>\n",
       "      <td>1.0</td>\n",
       "      <td>0</td>\n",
       "      <td>Bathurst St, Toronto, ON M5S 2P9, Canada</td>\n",
       "      <td>43.658278</td>\n",
       "      <td>-79.408437</td>\n",
       "      <td>600.0</td>\n",
       "    </tr>\n",
       "    <tr>\n",
       "      <th>1057</th>\n",
       "      <td>2</td>\n",
       "      <td>1.0</td>\n",
       "      <td>0</td>\n",
       "      <td>, Toronto M5T 0A9 ON, Canada</td>\n",
       "      <td>43.652519</td>\n",
       "      <td>-79.389078</td>\n",
       "      <td>3700.0</td>\n",
       "    </tr>\n",
       "    <tr>\n",
       "      <th>91</th>\n",
       "      <td>2</td>\n",
       "      <td>2.0</td>\n",
       "      <td>0</td>\n",
       "      <td>28 Wellesley St E, Toronto, ON M4Y, Canada</td>\n",
       "      <td>43.665588</td>\n",
       "      <td>-79.383028</td>\n",
       "      <td>3700.0</td>\n",
       "    </tr>\n",
       "    <tr>\n",
       "      <th>644</th>\n",
       "      <td>1</td>\n",
       "      <td>1.0</td>\n",
       "      <td>0</td>\n",
       "      <td>49 McCaul St, Toronto, ON M5T 1V7, Canada</td>\n",
       "      <td>43.651579</td>\n",
       "      <td>-79.390080</td>\n",
       "      <td>3750.0</td>\n",
       "    </tr>\n",
       "    <tr>\n",
       "      <th>884</th>\n",
       "      <td>1</td>\n",
       "      <td>1.0</td>\n",
       "      <td>0</td>\n",
       "      <td>101 Peter St, Toronto, ON M5V 0G6, Canada</td>\n",
       "      <td>43.647513</td>\n",
       "      <td>-79.392702</td>\n",
       "      <td>3750.0</td>\n",
       "    </tr>\n",
       "    <tr>\n",
       "      <th>695</th>\n",
       "      <td>3</td>\n",
       "      <td>2.0</td>\n",
       "      <td>0</td>\n",
       "      <td>14 York St, Toronto, ON M5J 0B1, Canada</td>\n",
       "      <td>43.641908</td>\n",
       "      <td>-79.381780</td>\n",
       "      <td>3800.0</td>\n",
       "    </tr>\n",
       "  </tbody>\n",
       "</table>\n",
       "</div>"
      ],
      "text/plain": [
       "      Bedroom  Bathroom  Den  \\\n",
       "816         1       2.0    0   \n",
       "973         1       2.0    1   \n",
       "794         1       1.0    0   \n",
       "761         1       1.0    0   \n",
       "1110        1       1.0    0   \n",
       "83          1       1.0    0   \n",
       "1049        2       1.0    0   \n",
       "1057        2       1.0    0   \n",
       "91          2       2.0    0   \n",
       "644         1       1.0    0   \n",
       "884         1       1.0    0   \n",
       "695         3       2.0    0   \n",
       "\n",
       "                                                Address        Lat       Long  \\\n",
       "816                     Euclid Ave, Toronto, ON, Canada  43.658689 -79.412577   \n",
       "973   2121 Lake Shore Blvd W, Etobicoke, ON M8V 4E9,...  43.627447 -79.478374   \n",
       "794       8 Wellesley St E, Toronto, ON M4Y 3B2, Canada  43.665233 -79.384293   \n",
       "761                        , Toronro M4V 1N5 ON, Canada  43.686511 -79.399522   \n",
       "1110     195 Wynford Dr, North York, ON M3C 3P3, Canada  43.723587 -79.324879   \n",
       "83          89 Chestnut St, Toronto, ON M5G 1R1, Canada  43.654155 -79.385211   \n",
       "1049           Bathurst St, Toronto, ON M5S 2P9, Canada  43.658278 -79.408437   \n",
       "1057                       , Toronto M5T 0A9 ON, Canada  43.652519 -79.389078   \n",
       "91           28 Wellesley St E, Toronto, ON M4Y, Canada  43.665588 -79.383028   \n",
       "644           49 McCaul St, Toronto, ON M5T 1V7, Canada  43.651579 -79.390080   \n",
       "884           101 Peter St, Toronto, ON M5V 0G6, Canada  43.647513 -79.392702   \n",
       "695             14 York St, Toronto, ON M5J 0B1, Canada  43.641908 -79.381780   \n",
       "\n",
       "       Price  \n",
       "816     65.0  \n",
       "973     99.0  \n",
       "794     99.0  \n",
       "761    150.0  \n",
       "1110   300.0  \n",
       "83     550.0  \n",
       "1049   600.0  \n",
       "1057  3700.0  \n",
       "91    3700.0  \n",
       "644   3750.0  \n",
       "884   3750.0  \n",
       "695   3800.0  "
      ]
     },
     "execution_count": 169,
     "metadata": {},
     "output_type": "execute_result"
    }
   ],
   "source": [
    "# Inspect outliers\n",
    "df_outliers = df_cleaned.query(\"Price < @lower_bound | Price > @upper_bound\").sort_values(by=\"Price\")\n",
    "df_outliers.head(12)"
   ]
  },
  {
   "cell_type": "code",
   "execution_count": 170,
   "id": "0a6841c5",
   "metadata": {
    "scrolled": false
   },
   "outputs": [
    {
     "data": {
      "text/html": [
       "<div>\n",
       "<style scoped>\n",
       "    .dataframe tbody tr th:only-of-type {\n",
       "        vertical-align: middle;\n",
       "    }\n",
       "\n",
       "    .dataframe tbody tr th {\n",
       "        vertical-align: top;\n",
       "    }\n",
       "\n",
       "    .dataframe thead th {\n",
       "        text-align: right;\n",
       "    }\n",
       "</style>\n",
       "<table border=\"1\" class=\"dataframe\">\n",
       "  <thead>\n",
       "    <tr style=\"text-align: right;\">\n",
       "      <th></th>\n",
       "      <th>Bedroom</th>\n",
       "      <th>Bathroom</th>\n",
       "      <th>Den</th>\n",
       "      <th>Address</th>\n",
       "      <th>Lat</th>\n",
       "      <th>Long</th>\n",
       "      <th>Price</th>\n",
       "    </tr>\n",
       "  </thead>\n",
       "  <tbody>\n",
       "    <tr>\n",
       "      <th>1031</th>\n",
       "      <td>2</td>\n",
       "      <td>2.0</td>\n",
       "      <td>0</td>\n",
       "      <td>30 Nelson St, Toronto, ON M5V 0H5, Canada</td>\n",
       "      <td>43.649023</td>\n",
       "      <td>-79.388400</td>\n",
       "      <td>4500.0</td>\n",
       "    </tr>\n",
       "    <tr>\n",
       "      <th>902</th>\n",
       "      <td>3</td>\n",
       "      <td>3.0</td>\n",
       "      <td>0</td>\n",
       "      <td>10 Glen Rd, Toronto, ON, M4X 1M5</td>\n",
       "      <td>43.671593</td>\n",
       "      <td>-79.375083</td>\n",
       "      <td>4500.0</td>\n",
       "    </tr>\n",
       "    <tr>\n",
       "      <th>661</th>\n",
       "      <td>3</td>\n",
       "      <td>2.0</td>\n",
       "      <td>0</td>\n",
       "      <td>Salvador Allende Ct, Toronto, ON, M6G 0A3</td>\n",
       "      <td>43.672327</td>\n",
       "      <td>-79.428726</td>\n",
       "      <td>4625.0</td>\n",
       "    </tr>\n",
       "    <tr>\n",
       "      <th>654</th>\n",
       "      <td>1</td>\n",
       "      <td>1.0</td>\n",
       "      <td>0</td>\n",
       "      <td>80 Blue Jays Way, Toronto, ON M5V 2G3, Canada</td>\n",
       "      <td>43.645297</td>\n",
       "      <td>-79.392397</td>\n",
       "      <td>4700.0</td>\n",
       "    </tr>\n",
       "    <tr>\n",
       "      <th>941</th>\n",
       "      <td>3</td>\n",
       "      <td>2.0</td>\n",
       "      <td>0</td>\n",
       "      <td>14 York St, Toronto, ON M5J 0B1, Canada</td>\n",
       "      <td>43.641908</td>\n",
       "      <td>-79.381780</td>\n",
       "      <td>4900.0</td>\n",
       "    </tr>\n",
       "    <tr>\n",
       "      <th>1043</th>\n",
       "      <td>3</td>\n",
       "      <td>3.0</td>\n",
       "      <td>0</td>\n",
       "      <td>397 Front St W, Toronto, ON M5V 3S1, Canada</td>\n",
       "      <td>43.642569</td>\n",
       "      <td>-79.393460</td>\n",
       "      <td>4900.0</td>\n",
       "    </tr>\n",
       "    <tr>\n",
       "      <th>922</th>\n",
       "      <td>3</td>\n",
       "      <td>2.0</td>\n",
       "      <td>0</td>\n",
       "      <td>, toronto M5V 3z4 ON, Canada</td>\n",
       "      <td>43.641012</td>\n",
       "      <td>-79.394948</td>\n",
       "      <td>6000.0</td>\n",
       "    </tr>\n",
       "    <tr>\n",
       "      <th>845</th>\n",
       "      <td>2</td>\n",
       "      <td>3.0</td>\n",
       "      <td>0</td>\n",
       "      <td>180 University Ave, Toronto, ON M5H 0A2, Canada</td>\n",
       "      <td>43.648953</td>\n",
       "      <td>-79.385768</td>\n",
       "      <td>6500.0</td>\n",
       "    </tr>\n",
       "    <tr>\n",
       "      <th>1096</th>\n",
       "      <td>3</td>\n",
       "      <td>2.0</td>\n",
       "      <td>0</td>\n",
       "      <td>21 Widmer St, Toronto, ON M5V 0B8, Canada</td>\n",
       "      <td>43.647226</td>\n",
       "      <td>-79.391100</td>\n",
       "      <td>8000.0</td>\n",
       "    </tr>\n",
       "    <tr>\n",
       "      <th>952</th>\n",
       "      <td>2</td>\n",
       "      <td>2.5</td>\n",
       "      <td>0</td>\n",
       "      <td>311 Bay St, Toronto, ON M5H 4G5, Canada</td>\n",
       "      <td>43.649783</td>\n",
       "      <td>-79.380440</td>\n",
       "      <td>9750.0</td>\n",
       "    </tr>\n",
       "    <tr>\n",
       "      <th>917</th>\n",
       "      <td>2</td>\n",
       "      <td>1.0</td>\n",
       "      <td>0</td>\n",
       "      <td>, TORONTO  M4T 1P3 ON, Canada</td>\n",
       "      <td>43.690463</td>\n",
       "      <td>-79.381576</td>\n",
       "      <td>36900.0</td>\n",
       "    </tr>\n",
       "    <tr>\n",
       "      <th>129</th>\n",
       "      <td>1</td>\n",
       "      <td>1.0</td>\n",
       "      <td>0</td>\n",
       "      <td>101 Charles St, TORONTO, ON, M4Y 1V2</td>\n",
       "      <td>43.669593</td>\n",
       "      <td>-79.380580</td>\n",
       "      <td>535000.0</td>\n",
       "    </tr>\n",
       "  </tbody>\n",
       "</table>\n",
       "</div>"
      ],
      "text/plain": [
       "      Bedroom  Bathroom  Den                                          Address  \\\n",
       "1031        2       2.0    0        30 Nelson St, Toronto, ON M5V 0H5, Canada   \n",
       "902         3       3.0    0                 10 Glen Rd, Toronto, ON, M4X 1M5   \n",
       "661         3       2.0    0        Salvador Allende Ct, Toronto, ON, M6G 0A3   \n",
       "654         1       1.0    0    80 Blue Jays Way, Toronto, ON M5V 2G3, Canada   \n",
       "941         3       2.0    0          14 York St, Toronto, ON M5J 0B1, Canada   \n",
       "1043        3       3.0    0      397 Front St W, Toronto, ON M5V 3S1, Canada   \n",
       "922         3       2.0    0                     , toronto M5V 3z4 ON, Canada   \n",
       "845         2       3.0    0  180 University Ave, Toronto, ON M5H 0A2, Canada   \n",
       "1096        3       2.0    0        21 Widmer St, Toronto, ON M5V 0B8, Canada   \n",
       "952         2       2.5    0          311 Bay St, Toronto, ON M5H 4G5, Canada   \n",
       "917         2       1.0    0                    , TORONTO  M4T 1P3 ON, Canada   \n",
       "129         1       1.0    0             101 Charles St, TORONTO, ON, M4Y 1V2   \n",
       "\n",
       "            Lat       Long     Price  \n",
       "1031  43.649023 -79.388400    4500.0  \n",
       "902   43.671593 -79.375083    4500.0  \n",
       "661   43.672327 -79.428726    4625.0  \n",
       "654   43.645297 -79.392397    4700.0  \n",
       "941   43.641908 -79.381780    4900.0  \n",
       "1043  43.642569 -79.393460    4900.0  \n",
       "922   43.641012 -79.394948    6000.0  \n",
       "845   43.648953 -79.385768    6500.0  \n",
       "1096  43.647226 -79.391100    8000.0  \n",
       "952   43.649783 -79.380440    9750.0  \n",
       "917   43.690463 -79.381576   36900.0  \n",
       "129   43.669593 -79.380580  535000.0  "
      ]
     },
     "execution_count": 170,
     "metadata": {},
     "output_type": "execute_result"
    }
   ],
   "source": [
    "# Inspect outliers\n",
    "df_outliers.tail(12)"
   ]
  },
  {
   "cell_type": "markdown",
   "id": "4d234a2c",
   "metadata": {},
   "source": [
    "#### Create a new dataframe without outliers"
   ]
  },
  {
   "cell_type": "code",
   "execution_count": 171,
   "id": "88b2b3fb",
   "metadata": {
    "scrolled": true
   },
   "outputs": [
    {
     "data": {
      "text/html": [
       "<div>\n",
       "<style scoped>\n",
       "    .dataframe tbody tr th:only-of-type {\n",
       "        vertical-align: middle;\n",
       "    }\n",
       "\n",
       "    .dataframe tbody tr th {\n",
       "        vertical-align: top;\n",
       "    }\n",
       "\n",
       "    .dataframe thead th {\n",
       "        text-align: right;\n",
       "    }\n",
       "</style>\n",
       "<table border=\"1\" class=\"dataframe\">\n",
       "  <thead>\n",
       "    <tr style=\"text-align: right;\">\n",
       "      <th></th>\n",
       "      <th>Bedroom</th>\n",
       "      <th>Bathroom</th>\n",
       "      <th>Den</th>\n",
       "      <th>Address</th>\n",
       "      <th>Lat</th>\n",
       "      <th>Long</th>\n",
       "      <th>Price</th>\n",
       "    </tr>\n",
       "  </thead>\n",
       "  <tbody>\n",
       "    <tr>\n",
       "      <th>0</th>\n",
       "      <td>2</td>\n",
       "      <td>2.0</td>\n",
       "      <td>0</td>\n",
       "      <td>3985 Grand Park Drive, 3985 Grand Park Dr, Mis...</td>\n",
       "      <td>43.581639</td>\n",
       "      <td>-79.648193</td>\n",
       "      <td>2450.0</td>\n",
       "    </tr>\n",
       "    <tr>\n",
       "      <th>1</th>\n",
       "      <td>1</td>\n",
       "      <td>1.0</td>\n",
       "      <td>1</td>\n",
       "      <td>361 Front St W, Toronto, ON M5V 3R5, Canada</td>\n",
       "      <td>43.643051</td>\n",
       "      <td>-79.391643</td>\n",
       "      <td>2150.0</td>\n",
       "    </tr>\n",
       "    <tr>\n",
       "      <th>2</th>\n",
       "      <td>1</td>\n",
       "      <td>1.0</td>\n",
       "      <td>0</td>\n",
       "      <td>89 McGill Street, Toronto, ON, M5B 0B1</td>\n",
       "      <td>43.660605</td>\n",
       "      <td>-79.378635</td>\n",
       "      <td>1950.0</td>\n",
       "    </tr>\n",
       "    <tr>\n",
       "      <th>3</th>\n",
       "      <td>2</td>\n",
       "      <td>2.0</td>\n",
       "      <td>0</td>\n",
       "      <td>10 York Street, Toronto, ON, M5J 0E1</td>\n",
       "      <td>43.641087</td>\n",
       "      <td>-79.381405</td>\n",
       "      <td>2900.0</td>\n",
       "    </tr>\n",
       "    <tr>\n",
       "      <th>4</th>\n",
       "      <td>1</td>\n",
       "      <td>1.0</td>\n",
       "      <td>0</td>\n",
       "      <td>80 St Patrick St, Toronto, ON M5T 2X6, Canada</td>\n",
       "      <td>43.652487</td>\n",
       "      <td>-79.389622</td>\n",
       "      <td>1800.0</td>\n",
       "    </tr>\n",
       "  </tbody>\n",
       "</table>\n",
       "</div>"
      ],
      "text/plain": [
       "   Bedroom  Bathroom  Den                                            Address  \\\n",
       "0        2       2.0    0  3985 Grand Park Drive, 3985 Grand Park Dr, Mis...   \n",
       "1        1       1.0    1        361 Front St W, Toronto, ON M5V 3R5, Canada   \n",
       "2        1       1.0    0             89 McGill Street, Toronto, ON, M5B 0B1   \n",
       "3        2       2.0    0               10 York Street, Toronto, ON, M5J 0E1   \n",
       "4        1       1.0    0      80 St Patrick St, Toronto, ON M5T 2X6, Canada   \n",
       "\n",
       "         Lat       Long   Price  \n",
       "0  43.581639 -79.648193  2450.0  \n",
       "1  43.643051 -79.391643  2150.0  \n",
       "2  43.660605 -79.378635  1950.0  \n",
       "3  43.641087 -79.381405  2900.0  \n",
       "4  43.652487 -79.389622  1800.0  "
      ]
     },
     "execution_count": 171,
     "metadata": {},
     "output_type": "execute_result"
    }
   ],
   "source": [
    "# Remove out outliers\n",
    "df_withOut_ol = df_cleaned.query(\"Price >= @lower_bound & Price <= @upper_bound\")\n",
    "df_withOut_ol.head()"
   ]
  },
  {
   "cell_type": "code",
   "execution_count": 172,
   "id": "cb41da4b",
   "metadata": {
    "scrolled": true
   },
   "outputs": [
    {
     "data": {
      "text/html": [
       "<div>\n",
       "<style scoped>\n",
       "    .dataframe tbody tr th:only-of-type {\n",
       "        vertical-align: middle;\n",
       "    }\n",
       "\n",
       "    .dataframe tbody tr th {\n",
       "        vertical-align: top;\n",
       "    }\n",
       "\n",
       "    .dataframe thead th {\n",
       "        text-align: right;\n",
       "    }\n",
       "</style>\n",
       "<table border=\"1\" class=\"dataframe\">\n",
       "  <thead>\n",
       "    <tr style=\"text-align: right;\">\n",
       "      <th></th>\n",
       "      <th>Bedroom</th>\n",
       "      <th>Bathroom</th>\n",
       "      <th>Den</th>\n",
       "      <th>Lat</th>\n",
       "      <th>Long</th>\n",
       "      <th>Price</th>\n",
       "    </tr>\n",
       "  </thead>\n",
       "  <tbody>\n",
       "    <tr>\n",
       "      <th>count</th>\n",
       "      <td>777.000000</td>\n",
       "      <td>777.000000</td>\n",
       "      <td>777.000000</td>\n",
       "      <td>777.000000</td>\n",
       "      <td>777.000000</td>\n",
       "      <td>777.000000</td>\n",
       "    </tr>\n",
       "    <tr>\n",
       "      <th>mean</th>\n",
       "      <td>1.338481</td>\n",
       "      <td>1.214929</td>\n",
       "      <td>0.160875</td>\n",
       "      <td>43.693862</td>\n",
       "      <td>-79.468836</td>\n",
       "      <td>2102.487773</td>\n",
       "    </tr>\n",
       "    <tr>\n",
       "      <th>std</th>\n",
       "      <td>0.537246</td>\n",
       "      <td>0.412602</td>\n",
       "      <td>0.367652</td>\n",
       "      <td>0.539526</td>\n",
       "      <td>1.616142</td>\n",
       "      <td>578.116565</td>\n",
       "    </tr>\n",
       "    <tr>\n",
       "      <th>min</th>\n",
       "      <td>1.000000</td>\n",
       "      <td>1.000000</td>\n",
       "      <td>0.000000</td>\n",
       "      <td>42.985767</td>\n",
       "      <td>-114.082215</td>\n",
       "      <td>650.000000</td>\n",
       "    </tr>\n",
       "    <tr>\n",
       "      <th>25%</th>\n",
       "      <td>1.000000</td>\n",
       "      <td>1.000000</td>\n",
       "      <td>0.000000</td>\n",
       "      <td>43.641579</td>\n",
       "      <td>-79.414786</td>\n",
       "      <td>1750.000000</td>\n",
       "    </tr>\n",
       "    <tr>\n",
       "      <th>50%</th>\n",
       "      <td>1.000000</td>\n",
       "      <td>1.000000</td>\n",
       "      <td>0.000000</td>\n",
       "      <td>43.652058</td>\n",
       "      <td>-79.387374</td>\n",
       "      <td>2100.000000</td>\n",
       "    </tr>\n",
       "    <tr>\n",
       "      <th>75%</th>\n",
       "      <td>2.000000</td>\n",
       "      <td>1.000000</td>\n",
       "      <td>0.000000</td>\n",
       "      <td>43.667817</td>\n",
       "      <td>-79.376562</td>\n",
       "      <td>2450.000000</td>\n",
       "    </tr>\n",
       "    <tr>\n",
       "      <th>max</th>\n",
       "      <td>3.000000</td>\n",
       "      <td>3.000000</td>\n",
       "      <td>1.000000</td>\n",
       "      <td>56.130366</td>\n",
       "      <td>-73.576385</td>\n",
       "      <td>3620.000000</td>\n",
       "    </tr>\n",
       "  </tbody>\n",
       "</table>\n",
       "</div>"
      ],
      "text/plain": [
       "          Bedroom    Bathroom         Den         Lat        Long        Price\n",
       "count  777.000000  777.000000  777.000000  777.000000  777.000000   777.000000\n",
       "mean     1.338481    1.214929    0.160875   43.693862  -79.468836  2102.487773\n",
       "std      0.537246    0.412602    0.367652    0.539526    1.616142   578.116565\n",
       "min      1.000000    1.000000    0.000000   42.985767 -114.082215   650.000000\n",
       "25%      1.000000    1.000000    0.000000   43.641579  -79.414786  1750.000000\n",
       "50%      1.000000    1.000000    0.000000   43.652058  -79.387374  2100.000000\n",
       "75%      2.000000    1.000000    0.000000   43.667817  -79.376562  2450.000000\n",
       "max      3.000000    3.000000    1.000000   56.130366  -73.576385  3620.000000"
      ]
     },
     "execution_count": 172,
     "metadata": {},
     "output_type": "execute_result"
    }
   ],
   "source": [
    "# Inspect updated data statistics\n",
    "df_withOut_ol.describe()"
   ]
  },
  {
   "cell_type": "markdown",
   "id": "3a307af1",
   "metadata": {},
   "source": [
    "## Visualize and Analyze"
   ]
  },
  {
   "cell_type": "markdown",
   "id": "8ed92277",
   "metadata": {},
   "source": [
    "Use boxplot to visualize the ``Price`` distibution againts different variables - ``Bedroom``,``Bathroom``, and ``Den``."
   ]
  },
  {
   "cell_type": "code",
   "execution_count": 173,
   "id": "ac261fd6",
   "metadata": {},
   "outputs": [
    {
     "data": {
      "image/png": "[encoded data removed]",
      "text/plain": [
       "<Figure size 2000x1000 with 3 Axes>"
      ]
     },
     "metadata": {},
     "output_type": "display_data"
    }
   ],
   "source": [
    "# Boxplots - Price vs Number Bedroom, Bathroom, Den\n",
    "fig, axes = plt.subplots(1, 3, figsize=(20, 10))\n",
    "fig.suptitle(\"Price vs Number Bedroom, Bathroom, Den\")\n",
    "meanpropsStyle = dict(markerfacecolor=\"red\",markeredgecolor=\"white\")\n",
    "sns.boxplot(ax=axes[0], data=df_withOut_ol, x=df_withOut_ol.Bedroom, y=df_withOut_ol.Price\n",
    "            , showmeans=True\n",
    "            , meanprops=dict(markerfacecolor=\"red\",markeredgecolor=\"white\"))\n",
    "sns.boxplot(ax=axes[1], data=df_withOut_ol, x=df_withOut_ol.Bathroom, y=df_withOut_ol.Price\n",
    "            , showmeans=True\n",
    "            , meanprops=meanpropsStyle)\n",
    "sns.boxplot(ax=axes[2], data=df_withOut_ol, x=df_withOut_ol.Den, y=df_withOut_ol.Price\n",
    "            , showmeans=True\n",
    "            , meanprops=meanpropsStyle)\n",
    "plt.show()"
   ]
  },
  {
   "cell_type": "markdown",
   "id": "b72b4751",
   "metadata": {},
   "source": [
    "The boxplot shows as that:\n",
    "* Price varies widely in any of the three variables. Which would mean that neither of these variables are reliable factors to price.\n",
    "* Having 2 bathrooms increases mean and median price.\n",
    "* There seems to have no significant advance in having a den."
   ]
  },
  {
   "cell_type": "code",
   "execution_count": 174,
   "id": "88be021a",
   "metadata": {
    "scrolled": false
   },
   "outputs": [
    {
     "data": {
      "image/png": "[encoded data removed]",
      "text/plain": [
       "<Figure size 640x480 with 1 Axes>"
      ]
     },
     "metadata": {},
     "output_type": "display_data"
    }
   ],
   "source": [
    "# Histogram of Price - without outliers\n",
    "sns.histplot(x=df_withOut_ol.Price, kde=True);"
   ]
  },
  {
   "cell_type": "markdown",
   "id": "b2843105",
   "metadata": {},
   "source": [
    "The price data looks normally distributed after removing the outliers."
   ]
  },
  {
   "cell_type": "code",
   "execution_count": 175,
   "id": "6afd310b",
   "metadata": {
    "scrolled": false
   },
   "outputs": [
    {
     "data": {
      "image/png": "[encoded data removed]",
      "text/plain": [
       "<Figure size 1000x1000 with 4 Axes>"
      ]
     },
     "metadata": {},
     "output_type": "display_data"
    }
   ],
   "source": [
    "# Barplot - Price vs Number Bedroom, Bathroom, Den\n",
    "fig, axes = plt.subplots(2, 2, figsize=(10, 10))\n",
    "fig.suptitle(\"Barplot - Price vs Number Bedroom, Bathroom, Den\")\n",
    "\n",
    "g1 = sns.barplot(ax=axes[0,0], data=df_withOut_ol, x=df_withOut_ol.Bedroom, y=df_withOut_ol.Price, errwidth=0)\n",
    "g1.bar_label(g1.containers[0])\n",
    "g2 = sns.barplot(ax=axes[1,0], data=df_withOut_ol, x=df_withOut_ol.Bathroom, y=df_withOut_ol.Price, errwidth=0)\n",
    "g2.bar_label(g2.containers[0])\n",
    "g3 =sns.barplot(ax=axes[0,1], data=df_withOut_ol, x=df_withOut_ol.Den, y=df_withOut_ol.Price, errwidth=0)\n",
    "g3.bar_label(g3.containers[0])\n",
    "\n",
    "plt.show()"
   ]
  },
  {
   "cell_type": "markdown",
   "id": "bd6d98d1",
   "metadata": {},
   "source": [
    "The barplot confirms some observations from our boxplot.\n",
    "* 2 bathroom units has the hights average price.\n",
    "* A den has little impact on price.\n",
    "\n",
    "It also shows that higher number of ``Bedroom`` or ``Bathroom`` does not directly translate to higher ``Price``"
   ]
  },
  {
   "cell_type": "markdown",
   "id": "d8fbb7d1",
   "metadata": {},
   "source": [
    "#### Visualize the most correlated variables in one plot"
   ]
  },
  {
   "cell_type": "markdown",
   "id": "250dad6a",
   "metadata": {},
   "source": [
    "Most correlated variables - ``Price``,``Bedroom``, ``Bathroom``"
   ]
  },
  {
   "cell_type": "code",
   "execution_count": 176,
   "id": "a59b385f",
   "metadata": {
    "scrolled": false
   },
   "outputs": [
    {
     "data": {
      "image/png": "[encoded data removed]",
      "text/plain": [
       "<Figure size 1000x1000 with 1 Axes>"
      ]
     },
     "metadata": {},
     "output_type": "display_data"
    }
   ],
   "source": [
    "# Barplot - Price vs Number Bedroom, Bathroom\n",
    "fig, axes = plt.subplots(1, 1, figsize=(10, 10))\n",
    "fig.suptitle(\"Barplot - Price vs Number Bathrooms and Bedrooms\")\n",
    "\n",
    "g1 = sns.barplot(ax=axes, data=df_withOut_ol\n",
    "                 , x=df_withOut_ol.Bathroom\n",
    "                 , y=df_withOut_ol.Price, errwidth=0, hue=\"Bedroom\")\n",
    "# display value as labesl on each bar\n",
    "for p in g1.patches:\n",
    "    g1.annotate(format(p.get_height(), '.2f')\n",
    "                , (p.get_x() + p.get_width() / 2., p.get_height())\n",
    "                , ha = 'center', va = 'center'\n",
    "                , rotation = 90\n",
    "                , xytext = (0, -30)\n",
    "                , textcoords = 'offset points')\n",
    "    \n",
    "plt.show()"
   ]
  },
  {
   "cell_type": "markdown",
   "id": "0ced57a1",
   "metadata": {},
   "source": [
    "The multi-variable boxplot above show that:\n",
    "* Both 1 and 2 price consistently increases with the increase in the number of bathrooms.\n",
    "* But for 3 bedroom units, those with 1.0, 1.5,2.0 bathrooms are priced higher than those with 2.5 and 3.0 bathrooms."
   ]
  },
  {
   "cell_type": "markdown",
   "id": "bf646684",
   "metadata": {},
   "source": [
    "### Creating Correlation matrix with Heatmap"
   ]
  },
  {
   "cell_type": "code",
   "execution_count": 177,
   "id": "e38b40d4",
   "metadata": {},
   "outputs": [],
   "source": [
    "corr = df_withOut_ol.corr()"
   ]
  },
  {
   "cell_type": "code",
   "execution_count": 178,
   "id": "969d568f",
   "metadata": {
    "scrolled": true
   },
   "outputs": [
    {
     "data": {
      "text/html": [
       "<style type=\"text/css\">\n",
       "#T_b126a_row0_col0, #T_b126a_row1_col1, #T_b126a_row2_col2, #T_b126a_row3_col3, #T_b126a_row4_col4, #T_b126a_row5_col5 {\n",
       "  background-color: #b40426;\n",
       "  color: #f1f1f1;\n",
       "}\n",
       "#T_b126a_row0_col1 {\n",
       "  background-color: #f5c2aa;\n",
       "  color: #000000;\n",
       "}\n",
       "#T_b126a_row0_col2, #T_b126a_row2_col0, #T_b126a_row2_col1, #T_b126a_row3_col4, #T_b126a_row3_col5, #T_b126a_row4_col3 {\n",
       "  background-color: #3b4cc0;\n",
       "  color: #f1f1f1;\n",
       "}\n",
       "#T_b126a_row0_col3 {\n",
       "  background-color: #cfdaea;\n",
       "  color: #000000;\n",
       "}\n",
       "#T_b126a_row0_col4, #T_b126a_row1_col5 {\n",
       "  background-color: #cdd9ec;\n",
       "  color: #000000;\n",
       "}\n",
       "#T_b126a_row0_col5 {\n",
       "  background-color: #afcafc;\n",
       "  color: #000000;\n",
       "}\n",
       "#T_b126a_row1_col0 {\n",
       "  background-color: #f7b396;\n",
       "  color: #000000;\n",
       "}\n",
       "#T_b126a_row1_col2 {\n",
       "  background-color: #6788ee;\n",
       "  color: #f1f1f1;\n",
       "}\n",
       "#T_b126a_row1_col3 {\n",
       "  background-color: #d3dbe7;\n",
       "  color: #000000;\n",
       "}\n",
       "#T_b126a_row1_col4, #T_b126a_row2_col4, #T_b126a_row5_col3 {\n",
       "  background-color: #cad8ef;\n",
       "  color: #000000;\n",
       "}\n",
       "#T_b126a_row2_col3 {\n",
       "  background-color: #dadce0;\n",
       "  color: #000000;\n",
       "}\n",
       "#T_b126a_row2_col5 {\n",
       "  background-color: #6485ec;\n",
       "  color: #f1f1f1;\n",
       "}\n",
       "#T_b126a_row3_col0 {\n",
       "  background-color: #80a3fa;\n",
       "  color: #f1f1f1;\n",
       "}\n",
       "#T_b126a_row3_col1 {\n",
       "  background-color: #5b7ae5;\n",
       "  color: #f1f1f1;\n",
       "}\n",
       "#T_b126a_row3_col2 {\n",
       "  background-color: #94b6ff;\n",
       "  color: #000000;\n",
       "}\n",
       "#T_b126a_row4_col0 {\n",
       "  background-color: #7da0f9;\n",
       "  color: #f1f1f1;\n",
       "}\n",
       "#T_b126a_row4_col1 {\n",
       "  background-color: #4a63d3;\n",
       "  color: #f1f1f1;\n",
       "}\n",
       "#T_b126a_row4_col2 {\n",
       "  background-color: #7699f6;\n",
       "  color: #f1f1f1;\n",
       "}\n",
       "#T_b126a_row4_col5 {\n",
       "  background-color: #3f53c6;\n",
       "  color: #f1f1f1;\n",
       "}\n",
       "#T_b126a_row5_col0, #T_b126a_row5_col1 {\n",
       "  background-color: #d5dbe5;\n",
       "  color: #000000;\n",
       "}\n",
       "#T_b126a_row5_col2 {\n",
       "  background-color: #9dbdff;\n",
       "  color: #000000;\n",
       "}\n",
       "#T_b126a_row5_col4 {\n",
       "  background-color: #ccd9ed;\n",
       "  color: #000000;\n",
       "}\n",
       "</style>\n",
       "<table id=\"T_b126a\">\n",
       "  <thead>\n",
       "    <tr>\n",
       "      <th class=\"blank level0\" >&nbsp;</th>\n",
       "      <th id=\"T_b126a_level0_col0\" class=\"col_heading level0 col0\" >Bedroom</th>\n",
       "      <th id=\"T_b126a_level0_col1\" class=\"col_heading level0 col1\" >Bathroom</th>\n",
       "      <th id=\"T_b126a_level0_col2\" class=\"col_heading level0 col2\" >Den</th>\n",
       "      <th id=\"T_b126a_level0_col3\" class=\"col_heading level0 col3\" >Lat</th>\n",
       "      <th id=\"T_b126a_level0_col4\" class=\"col_heading level0 col4\" >Long</th>\n",
       "      <th id=\"T_b126a_level0_col5\" class=\"col_heading level0 col5\" >Price</th>\n",
       "    </tr>\n",
       "  </thead>\n",
       "  <tbody>\n",
       "    <tr>\n",
       "      <th id=\"T_b126a_level0_row0\" class=\"row_heading level0 row0\" >Bedroom</th>\n",
       "      <td id=\"T_b126a_row0_col0\" class=\"data row0 col0\" >1.000000</td>\n",
       "      <td id=\"T_b126a_row0_col1\" class=\"data row0 col1\" >0.595724</td>\n",
       "      <td id=\"T_b126a_row0_col2\" class=\"data row0 col2\" >-0.276040</td>\n",
       "      <td id=\"T_b126a_row0_col3\" class=\"data row0 col3\" >-0.002073</td>\n",
       "      <td id=\"T_b126a_row0_col4\" class=\"data row0 col4\" >-0.015260</td>\n",
       "      <td id=\"T_b126a_row0_col5\" class=\"data row0 col5\" >0.322933</td>\n",
       "    </tr>\n",
       "    <tr>\n",
       "      <th id=\"T_b126a_level0_row1\" class=\"row_heading level0 row1\" >Bathroom</th>\n",
       "      <td id=\"T_b126a_row1_col0\" class=\"data row1 col0\" >0.595724</td>\n",
       "      <td id=\"T_b126a_row1_col1\" class=\"data row1 col1\" >1.000000</td>\n",
       "      <td id=\"T_b126a_row1_col2\" class=\"data row1 col2\" >-0.096557</td>\n",
       "      <td id=\"T_b126a_row1_col3\" class=\"data row1 col3\" >0.021219</td>\n",
       "      <td id=\"T_b126a_row1_col4\" class=\"data row1 col4\" >-0.040010</td>\n",
       "      <td id=\"T_b126a_row1_col5\" class=\"data row1 col5\" >0.419152</td>\n",
       "    </tr>\n",
       "    <tr>\n",
       "      <th id=\"T_b126a_level0_row2\" class=\"row_heading level0 row2\" >Den</th>\n",
       "      <td id=\"T_b126a_row2_col0\" class=\"data row2 col0\" >-0.276040</td>\n",
       "      <td id=\"T_b126a_row2_col1\" class=\"data row2 col1\" >-0.096557</td>\n",
       "      <td id=\"T_b126a_row2_col2\" class=\"data row2 col2\" >1.000000</td>\n",
       "      <td id=\"T_b126a_row2_col3\" class=\"data row2 col3\" >0.069554</td>\n",
       "      <td id=\"T_b126a_row2_col4\" class=\"data row2 col4\" >-0.040159</td>\n",
       "      <td id=\"T_b126a_row2_col5\" class=\"data row2 col5\" >0.098554</td>\n",
       "    </tr>\n",
       "    <tr>\n",
       "      <th id=\"T_b126a_level0_row3\" class=\"row_heading level0 row3\" >Lat</th>\n",
       "      <td id=\"T_b126a_row3_col0\" class=\"data row3 col0\" >-0.002073</td>\n",
       "      <td id=\"T_b126a_row3_col1\" class=\"data row3 col1\" >0.021219</td>\n",
       "      <td id=\"T_b126a_row3_col2\" class=\"data row3 col2\" >0.069554</td>\n",
       "      <td id=\"T_b126a_row3_col3\" class=\"data row3 col3\" >1.000000</td>\n",
       "      <td id=\"T_b126a_row3_col4\" class=\"data row3 col4\" >-0.826082</td>\n",
       "      <td id=\"T_b126a_row3_col5\" class=\"data row3 col5\" >-0.040747</td>\n",
       "    </tr>\n",
       "    <tr>\n",
       "      <th id=\"T_b126a_level0_row4\" class=\"row_heading level0 row4\" >Long</th>\n",
       "      <td id=\"T_b126a_row4_col0\" class=\"data row4 col0\" >-0.015260</td>\n",
       "      <td id=\"T_b126a_row4_col1\" class=\"data row4 col1\" >-0.040010</td>\n",
       "      <td id=\"T_b126a_row4_col2\" class=\"data row4 col2\" >-0.040159</td>\n",
       "      <td id=\"T_b126a_row4_col3\" class=\"data row4 col3\" >-0.826082</td>\n",
       "      <td id=\"T_b126a_row4_col4\" class=\"data row4 col4\" >1.000000</td>\n",
       "      <td id=\"T_b126a_row4_col5\" class=\"data row4 col5\" >-0.021527</td>\n",
       "    </tr>\n",
       "    <tr>\n",
       "      <th id=\"T_b126a_level0_row5\" class=\"row_heading level0 row5\" >Price</th>\n",
       "      <td id=\"T_b126a_row5_col0\" class=\"data row5 col0\" >0.322933</td>\n",
       "      <td id=\"T_b126a_row5_col1\" class=\"data row5 col1\" >0.419152</td>\n",
       "      <td id=\"T_b126a_row5_col2\" class=\"data row5 col2\" >0.098554</td>\n",
       "      <td id=\"T_b126a_row5_col3\" class=\"data row5 col3\" >-0.040747</td>\n",
       "      <td id=\"T_b126a_row5_col4\" class=\"data row5 col4\" >-0.021527</td>\n",
       "      <td id=\"T_b126a_row5_col5\" class=\"data row5 col5\" >1.000000</td>\n",
       "    </tr>\n",
       "  </tbody>\n",
       "</table>\n"
      ],
      "text/plain": [
       "<pandas.io.formats.style.Styler at 0x25905f7b700>"
      ]
     },
     "execution_count": 178,
     "metadata": {},
     "output_type": "execute_result"
    }
   ],
   "source": [
    "df_withOut_ol.corr().style.background_gradient(cmap='coolwarm')"
   ]
  },
  {
   "cell_type": "markdown",
   "id": "4badf5bb",
   "metadata": {},
   "source": [
    "### Creating Covariance matrix"
   ]
  },
  {
   "cell_type": "code",
   "execution_count": 179,
   "id": "661a52d4",
   "metadata": {},
   "outputs": [],
   "source": [
    "df1 = df_withOut_ol[['Lat', 'Long']]"
   ]
  },
  {
   "cell_type": "code",
   "execution_count": 180,
   "id": "a2e99c57",
   "metadata": {},
   "outputs": [
    {
     "name": "stdout",
     "output_type": "stream",
     "text": [
      "            Lat       Long\n",
      "0     43.581639 -79.648193\n",
      "1     43.643051 -79.391643\n",
      "2     43.660605 -79.378635\n",
      "3     43.641087 -79.381405\n",
      "4     43.652487 -79.389622\n",
      "...         ...        ...\n",
      "1119  43.325233 -79.802182\n",
      "1120  43.445426 -79.736833\n",
      "1121  43.683386 -79.309409\n",
      "1122  43.653636 -79.380873\n",
      "1123  43.669931 -79.375463\n",
      "\n",
      "[777 rows x 2 columns]\n"
     ]
    }
   ],
   "source": [
    "print(df1)"
   ]
  },
  {
   "cell_type": "code",
   "execution_count": 181,
   "id": "fa6f9de0",
   "metadata": {},
   "outputs": [
    {
     "data": {
      "text/html": [
       "<div>\n",
       "<style scoped>\n",
       "    .dataframe tbody tr th:only-of-type {\n",
       "        vertical-align: middle;\n",
       "    }\n",
       "\n",
       "    .dataframe tbody tr th {\n",
       "        vertical-align: top;\n",
       "    }\n",
       "\n",
       "    .dataframe thead th {\n",
       "        text-align: right;\n",
       "    }\n",
       "</style>\n",
       "<table border=\"1\" class=\"dataframe\">\n",
       "  <thead>\n",
       "    <tr style=\"text-align: right;\">\n",
       "      <th></th>\n",
       "      <th>Lat</th>\n",
       "      <th>Long</th>\n",
       "    </tr>\n",
       "  </thead>\n",
       "  <tbody>\n",
       "    <tr>\n",
       "      <th>Lat</th>\n",
       "      <td>1.00</td>\n",
       "      <td>-0.83</td>\n",
       "    </tr>\n",
       "    <tr>\n",
       "      <th>Long</th>\n",
       "      <td>-0.83</td>\n",
       "      <td>1.00</td>\n",
       "    </tr>\n",
       "  </tbody>\n",
       "</table>\n",
       "</div>"
      ],
      "text/plain": [
       "       Lat  Long\n",
       "Lat   1.00 -0.83\n",
       "Long -0.83  1.00"
      ]
     },
     "execution_count": 181,
     "metadata": {},
     "output_type": "execute_result"
    }
   ],
   "source": [
    "df1.corr().round(2)"
   ]
  },
  {
   "cell_type": "code",
   "execution_count": 182,
   "id": "fc7fe07d",
   "metadata": {
    "scrolled": true
   },
   "outputs": [
    {
     "data": {
      "text/html": [
       "<div>\n",
       "<style scoped>\n",
       "    .dataframe tbody tr th:only-of-type {\n",
       "        vertical-align: middle;\n",
       "    }\n",
       "\n",
       "    .dataframe tbody tr th {\n",
       "        vertical-align: top;\n",
       "    }\n",
       "\n",
       "    .dataframe thead th {\n",
       "        text-align: right;\n",
       "    }\n",
       "</style>\n",
       "<table border=\"1\" class=\"dataframe\">\n",
       "  <thead>\n",
       "    <tr style=\"text-align: right;\">\n",
       "      <th></th>\n",
       "      <th>Lat</th>\n",
       "      <th>Long</th>\n",
       "    </tr>\n",
       "  </thead>\n",
       "  <tbody>\n",
       "    <tr>\n",
       "      <th>Lat</th>\n",
       "      <td>0.29</td>\n",
       "      <td>-0.72</td>\n",
       "    </tr>\n",
       "    <tr>\n",
       "      <th>Long</th>\n",
       "      <td>-0.72</td>\n",
       "      <td>2.61</td>\n",
       "    </tr>\n",
       "  </tbody>\n",
       "</table>\n",
       "</div>"
      ],
      "text/plain": [
       "       Lat  Long\n",
       "Lat   0.29 -0.72\n",
       "Long -0.72  2.61"
      ]
     },
     "execution_count": 182,
     "metadata": {},
     "output_type": "execute_result"
    }
   ],
   "source": [
    "tb1 = df1.cov().round(2)\n",
    "tb1"
   ]
  },
  {
   "cell_type": "code",
   "execution_count": 183,
   "id": "ad19a20c",
   "metadata": {},
   "outputs": [
    {
     "name": "stdout",
     "output_type": "stream",
     "text": [
      "2.9\n"
     ]
    }
   ],
   "source": [
    "Total_Varience = tb1.loc['Lat','Lat'] + tb1.loc['Long','Long']\n",
    "print(Total_Varience)"
   ]
  },
  {
   "cell_type": "code",
   "execution_count": 184,
   "id": "d49f9e2f",
   "metadata": {},
   "outputs": [
    {
     "name": "stdout",
     "output_type": "stream",
     "text": [
      "90.0\n"
     ]
    }
   ],
   "source": [
    "Long_Ratio = tb1.loc['Long','Long']/Total_Varience\n",
    "print(Long_Ratio*100)"
   ]
  },
  {
   "cell_type": "code",
   "execution_count": 185,
   "id": "a6115108",
   "metadata": {},
   "outputs": [
    {
     "name": "stdout",
     "output_type": "stream",
     "text": [
      "10.0\n"
     ]
    }
   ],
   "source": [
    "Lat_Ratio = tb1.loc['Lat','Lat']/Total_Varience\n",
    "print(Lat_Ratio*100)"
   ]
  },
  {
   "cell_type": "markdown",
   "id": "3e7627c4",
   "metadata": {},
   "source": [
    "### Normalizatin of dataset"
   ]
  },
  {
   "cell_type": "code",
   "execution_count": 186,
   "id": "be1d93ef",
   "metadata": {},
   "outputs": [
    {
     "data": {
      "text/plain": [
       "Index(['Bedroom', 'Bathroom', 'Den', 'Address', 'Lat', 'Long', 'Price'], dtype='object')"
      ]
     },
     "execution_count": 186,
     "metadata": {},
     "output_type": "execute_result"
    }
   ],
   "source": [
    "df_withOut_ol.columns"
   ]
  },
  {
   "cell_type": "code",
   "execution_count": 187,
   "id": "a1f2fa68",
   "metadata": {},
   "outputs": [],
   "source": [
    "df_new = df_withOut_ol[['Bedroom', 'Bathroom', 'Den','Lat', 'Long', 'Price']]"
   ]
  },
  {
   "cell_type": "code",
   "execution_count": 188,
   "id": "18839e6a",
   "metadata": {},
   "outputs": [
    {
     "name": "stdout",
     "output_type": "stream",
     "text": [
      "      Bedroom  Bathroom  Den        Lat       Long   Price\n",
      "0           2       2.0    0  43.581639 -79.648193  2450.0\n",
      "1           1       1.0    1  43.643051 -79.391643  2150.0\n",
      "2           1       1.0    0  43.660605 -79.378635  1950.0\n",
      "3           2       2.0    0  43.641087 -79.381405  2900.0\n",
      "4           1       1.0    0  43.652487 -79.389622  1800.0\n",
      "...       ...       ...  ...        ...        ...     ...\n",
      "1119        3       1.0    0  43.325233 -79.802182  3000.0\n",
      "1120        1       1.0    0  43.445426 -79.736833  1200.0\n",
      "1121        1       1.0    0  43.683386 -79.309409  1800.0\n",
      "1122        2       1.0    0  43.653636 -79.380873  2200.0\n",
      "1123        1       1.0    0  43.669931 -79.375463  2150.0\n",
      "\n",
      "[777 rows x 6 columns]\n"
     ]
    }
   ],
   "source": [
    "print(df_new)"
   ]
  },
  {
   "cell_type": "code",
   "execution_count": 189,
   "id": "23cfe08e",
   "metadata": {},
   "outputs": [
    {
     "name": "stdout",
     "output_type": "stream",
     "text": [
      "Defaulting to user installation because normal site-packages is not writeable\n",
      "Requirement already satisfied: scikit-learn in d:\\programdata\\anaconda3\\lib\\site-packages (1.0.2)\n",
      "Requirement already satisfied: threadpoolctl>=2.0.0 in d:\\programdata\\anaconda3\\lib\\site-packages (from scikit-learn) (2.2.0)\n",
      "Requirement already satisfied: joblib>=0.11 in d:\\programdata\\anaconda3\\lib\\site-packages (from scikit-learn) (1.1.0)\n",
      "Requirement already satisfied: scipy>=1.1.0 in d:\\programdata\\anaconda3\\lib\\site-packages (from scikit-learn) (1.9.1)\n",
      "Requirement already satisfied: numpy>=1.14.6 in d:\\programdata\\anaconda3\\lib\\site-packages (from scikit-learn) (1.21.5)\n"
     ]
    }
   ],
   "source": [
    "!pip install scikit-learn"
   ]
  },
  {
   "cell_type": "code",
   "execution_count": 190,
   "id": "9f5f8143",
   "metadata": {},
   "outputs": [],
   "source": [
    "from sklearn.preprocessing import MinMaxScaler"
   ]
  },
  {
   "cell_type": "code",
   "execution_count": 191,
   "id": "e976d664",
   "metadata": {},
   "outputs": [],
   "source": [
    "scaler = MinMaxScaler()"
   ]
  },
  {
   "cell_type": "code",
   "execution_count": 192,
   "id": "36898681",
   "metadata": {},
   "outputs": [],
   "source": [
    "normalized_data=scaler.fit_transform(df_new)"
   ]
  },
  {
   "cell_type": "code",
   "execution_count": 193,
   "id": "f732ac7e",
   "metadata": {},
   "outputs": [],
   "source": [
    "normalized_df = pd.DataFrame(normalized_data\n",
    "                             , columns = ['Bedroom', 'Bathroom', 'Den','Lat', 'Long', 'Price'])"
   ]
  },
  {
   "cell_type": "code",
   "execution_count": 194,
   "id": "7d62504e",
   "metadata": {},
   "outputs": [
    {
     "name": "stdout",
     "output_type": "stream",
     "text": [
      "     Bedroom  Bathroom  Den       Lat      Long     Price\n",
      "0        0.5       0.5  0.0  0.045332  0.850100  0.606061\n",
      "1        0.0       0.0  1.0  0.050004  0.856434  0.505051\n",
      "2        0.0       0.0  0.0  0.051340  0.856755  0.437710\n",
      "3        0.5       0.5  0.0  0.049855  0.856687  0.757576\n",
      "4        0.0       0.0  0.0  0.050722  0.856484  0.387205\n",
      "..       ...       ...  ...       ...       ...       ...\n",
      "772      1.0       0.0  0.0  0.025826  0.846299  0.791246\n",
      "773      0.0       0.0  0.0  0.034969  0.847912  0.185185\n",
      "774      0.0       0.0  0.0  0.053073  0.858464  0.387205\n",
      "775      0.5       0.0  0.0  0.050809  0.856700  0.521886\n",
      "776      0.0       0.0  0.0  0.052049  0.856834  0.505051\n",
      "\n",
      "[777 rows x 6 columns]\n"
     ]
    }
   ],
   "source": [
    "print(normalized_df)"
   ]
  },
  {
   "cell_type": "code",
   "execution_count": 195,
   "id": "98107101",
   "metadata": {},
   "outputs": [
    {
     "data": {
      "text/html": [
       "<style type=\"text/css\">\n",
       "#T_3532d_row0_col0, #T_3532d_row1_col1, #T_3532d_row2_col2, #T_3532d_row3_col3, #T_3532d_row4_col4, #T_3532d_row5_col5 {\n",
       "  background-color: #b40426;\n",
       "  color: #f1f1f1;\n",
       "}\n",
       "#T_3532d_row0_col1 {\n",
       "  background-color: #f5c2aa;\n",
       "  color: #000000;\n",
       "}\n",
       "#T_3532d_row0_col2, #T_3532d_row2_col0, #T_3532d_row2_col1, #T_3532d_row3_col4, #T_3532d_row3_col5, #T_3532d_row4_col3 {\n",
       "  background-color: #3b4cc0;\n",
       "  color: #f1f1f1;\n",
       "}\n",
       "#T_3532d_row0_col3 {\n",
       "  background-color: #cfdaea;\n",
       "  color: #000000;\n",
       "}\n",
       "#T_3532d_row0_col4, #T_3532d_row1_col5 {\n",
       "  background-color: #cdd9ec;\n",
       "  color: #000000;\n",
       "}\n",
       "#T_3532d_row0_col5 {\n",
       "  background-color: #afcafc;\n",
       "  color: #000000;\n",
       "}\n",
       "#T_3532d_row1_col0 {\n",
       "  background-color: #f7b396;\n",
       "  color: #000000;\n",
       "}\n",
       "#T_3532d_row1_col2 {\n",
       "  background-color: #6788ee;\n",
       "  color: #f1f1f1;\n",
       "}\n",
       "#T_3532d_row1_col3 {\n",
       "  background-color: #d3dbe7;\n",
       "  color: #000000;\n",
       "}\n",
       "#T_3532d_row1_col4, #T_3532d_row2_col4, #T_3532d_row5_col3 {\n",
       "  background-color: #cad8ef;\n",
       "  color: #000000;\n",
       "}\n",
       "#T_3532d_row2_col3 {\n",
       "  background-color: #dadce0;\n",
       "  color: #000000;\n",
       "}\n",
       "#T_3532d_row2_col5 {\n",
       "  background-color: #6485ec;\n",
       "  color: #f1f1f1;\n",
       "}\n",
       "#T_3532d_row3_col0 {\n",
       "  background-color: #80a3fa;\n",
       "  color: #f1f1f1;\n",
       "}\n",
       "#T_3532d_row3_col1 {\n",
       "  background-color: #5b7ae5;\n",
       "  color: #f1f1f1;\n",
       "}\n",
       "#T_3532d_row3_col2 {\n",
       "  background-color: #94b6ff;\n",
       "  color: #000000;\n",
       "}\n",
       "#T_3532d_row4_col0 {\n",
       "  background-color: #7da0f9;\n",
       "  color: #f1f1f1;\n",
       "}\n",
       "#T_3532d_row4_col1 {\n",
       "  background-color: #4a63d3;\n",
       "  color: #f1f1f1;\n",
       "}\n",
       "#T_3532d_row4_col2 {\n",
       "  background-color: #7699f6;\n",
       "  color: #f1f1f1;\n",
       "}\n",
       "#T_3532d_row4_col5 {\n",
       "  background-color: #3f53c6;\n",
       "  color: #f1f1f1;\n",
       "}\n",
       "#T_3532d_row5_col0, #T_3532d_row5_col1 {\n",
       "  background-color: #d5dbe5;\n",
       "  color: #000000;\n",
       "}\n",
       "#T_3532d_row5_col2 {\n",
       "  background-color: #9dbdff;\n",
       "  color: #000000;\n",
       "}\n",
       "#T_3532d_row5_col4 {\n",
       "  background-color: #ccd9ed;\n",
       "  color: #000000;\n",
       "}\n",
       "</style>\n",
       "<table id=\"T_3532d\">\n",
       "  <thead>\n",
       "    <tr>\n",
       "      <th class=\"blank level0\" >&nbsp;</th>\n",
       "      <th id=\"T_3532d_level0_col0\" class=\"col_heading level0 col0\" >Bedroom</th>\n",
       "      <th id=\"T_3532d_level0_col1\" class=\"col_heading level0 col1\" >Bathroom</th>\n",
       "      <th id=\"T_3532d_level0_col2\" class=\"col_heading level0 col2\" >Den</th>\n",
       "      <th id=\"T_3532d_level0_col3\" class=\"col_heading level0 col3\" >Lat</th>\n",
       "      <th id=\"T_3532d_level0_col4\" class=\"col_heading level0 col4\" >Long</th>\n",
       "      <th id=\"T_3532d_level0_col5\" class=\"col_heading level0 col5\" >Price</th>\n",
       "    </tr>\n",
       "  </thead>\n",
       "  <tbody>\n",
       "    <tr>\n",
       "      <th id=\"T_3532d_level0_row0\" class=\"row_heading level0 row0\" >Bedroom</th>\n",
       "      <td id=\"T_3532d_row0_col0\" class=\"data row0 col0\" >1.000000</td>\n",
       "      <td id=\"T_3532d_row0_col1\" class=\"data row0 col1\" >0.595724</td>\n",
       "      <td id=\"T_3532d_row0_col2\" class=\"data row0 col2\" >-0.276040</td>\n",
       "      <td id=\"T_3532d_row0_col3\" class=\"data row0 col3\" >-0.002073</td>\n",
       "      <td id=\"T_3532d_row0_col4\" class=\"data row0 col4\" >-0.015260</td>\n",
       "      <td id=\"T_3532d_row0_col5\" class=\"data row0 col5\" >0.322933</td>\n",
       "    </tr>\n",
       "    <tr>\n",
       "      <th id=\"T_3532d_level0_row1\" class=\"row_heading level0 row1\" >Bathroom</th>\n",
       "      <td id=\"T_3532d_row1_col0\" class=\"data row1 col0\" >0.595724</td>\n",
       "      <td id=\"T_3532d_row1_col1\" class=\"data row1 col1\" >1.000000</td>\n",
       "      <td id=\"T_3532d_row1_col2\" class=\"data row1 col2\" >-0.096557</td>\n",
       "      <td id=\"T_3532d_row1_col3\" class=\"data row1 col3\" >0.021219</td>\n",
       "      <td id=\"T_3532d_row1_col4\" class=\"data row1 col4\" >-0.040010</td>\n",
       "      <td id=\"T_3532d_row1_col5\" class=\"data row1 col5\" >0.419152</td>\n",
       "    </tr>\n",
       "    <tr>\n",
       "      <th id=\"T_3532d_level0_row2\" class=\"row_heading level0 row2\" >Den</th>\n",
       "      <td id=\"T_3532d_row2_col0\" class=\"data row2 col0\" >-0.276040</td>\n",
       "      <td id=\"T_3532d_row2_col1\" class=\"data row2 col1\" >-0.096557</td>\n",
       "      <td id=\"T_3532d_row2_col2\" class=\"data row2 col2\" >1.000000</td>\n",
       "      <td id=\"T_3532d_row2_col3\" class=\"data row2 col3\" >0.069554</td>\n",
       "      <td id=\"T_3532d_row2_col4\" class=\"data row2 col4\" >-0.040159</td>\n",
       "      <td id=\"T_3532d_row2_col5\" class=\"data row2 col5\" >0.098554</td>\n",
       "    </tr>\n",
       "    <tr>\n",
       "      <th id=\"T_3532d_level0_row3\" class=\"row_heading level0 row3\" >Lat</th>\n",
       "      <td id=\"T_3532d_row3_col0\" class=\"data row3 col0\" >-0.002073</td>\n",
       "      <td id=\"T_3532d_row3_col1\" class=\"data row3 col1\" >0.021219</td>\n",
       "      <td id=\"T_3532d_row3_col2\" class=\"data row3 col2\" >0.069554</td>\n",
       "      <td id=\"T_3532d_row3_col3\" class=\"data row3 col3\" >1.000000</td>\n",
       "      <td id=\"T_3532d_row3_col4\" class=\"data row3 col4\" >-0.826082</td>\n",
       "      <td id=\"T_3532d_row3_col5\" class=\"data row3 col5\" >-0.040747</td>\n",
       "    </tr>\n",
       "    <tr>\n",
       "      <th id=\"T_3532d_level0_row4\" class=\"row_heading level0 row4\" >Long</th>\n",
       "      <td id=\"T_3532d_row4_col0\" class=\"data row4 col0\" >-0.015260</td>\n",
       "      <td id=\"T_3532d_row4_col1\" class=\"data row4 col1\" >-0.040010</td>\n",
       "      <td id=\"T_3532d_row4_col2\" class=\"data row4 col2\" >-0.040159</td>\n",
       "      <td id=\"T_3532d_row4_col3\" class=\"data row4 col3\" >-0.826082</td>\n",
       "      <td id=\"T_3532d_row4_col4\" class=\"data row4 col4\" >1.000000</td>\n",
       "      <td id=\"T_3532d_row4_col5\" class=\"data row4 col5\" >-0.021527</td>\n",
       "    </tr>\n",
       "    <tr>\n",
       "      <th id=\"T_3532d_level0_row5\" class=\"row_heading level0 row5\" >Price</th>\n",
       "      <td id=\"T_3532d_row5_col0\" class=\"data row5 col0\" >0.322933</td>\n",
       "      <td id=\"T_3532d_row5_col1\" class=\"data row5 col1\" >0.419152</td>\n",
       "      <td id=\"T_3532d_row5_col2\" class=\"data row5 col2\" >0.098554</td>\n",
       "      <td id=\"T_3532d_row5_col3\" class=\"data row5 col3\" >-0.040747</td>\n",
       "      <td id=\"T_3532d_row5_col4\" class=\"data row5 col4\" >-0.021527</td>\n",
       "      <td id=\"T_3532d_row5_col5\" class=\"data row5 col5\" >1.000000</td>\n",
       "    </tr>\n",
       "  </tbody>\n",
       "</table>\n"
      ],
      "text/plain": [
       "<pandas.io.formats.style.Styler at 0x25908a29e80>"
      ]
     },
     "execution_count": 195,
     "metadata": {},
     "output_type": "execute_result"
    }
   ],
   "source": [
    "normalized_df.corr().style.background_gradient(cmap='coolwarm')"
   ]
  }
 ],
 "metadata": {
  "kernelspec": {
   "display_name": "Python 3 (ipykernel)",
   "language": "python",
   "name": "python3"
  },
  "language_info": {
   "codemirror_mode": {
    "name": "ipython",
    "version": 3
   },
   "file_extension": ".py",
   "mimetype": "text/x-python",
   "name": "python",
   "nbconvert_exporter": "python",
   "pygments_lexer": "ipython3",
   "version": "3.9.13"
  }
 },
 "nbformat": 4,
 "nbformat_minor": 5
}
